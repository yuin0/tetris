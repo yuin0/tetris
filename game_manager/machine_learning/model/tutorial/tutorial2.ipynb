{
 "cells": [
  {
   "cell_type": "markdown",
   "id": "cc8c5181",
   "metadata": {},
   "source": [
    "# チュートリアル2: MLPの使い方を理解しよう\n",
    "\n",
    "## このノードブックの目的\n",
    "- pytorch で構築したサンプル用MLP モデルを使って、実際に推論を試し、サンプル用モデルの入出力形式を理解する。"
   ]
  },
  {
   "cell_type": "markdown",
   "id": "cedaf028",
   "metadata": {},
   "source": [
    "### チュートリアル 1と同じくブロックを可視化する関数とサンプル用テストデータを定義しましょう."
   ]
  },
  {
   "cell_type": "markdown",
   "id": "b6de3e2a",
   "metadata": {},
   "source": [
    "## 0.1. matplotlibのインストール \n",
    "可視化用のライブラリ[matplotlib](https://matplotlib.org/stable/api/_as_gen/matplotlib.pyplot.html)をインストールします。"
   ]
  },
  {
   "cell_type": "code",
   "execution_count": 5,
   "id": "885e03e4",
   "metadata": {
    "scrolled": true
   },
   "outputs": [
    {
     "name": "stdout",
     "output_type": "stream",
     "text": [
      "Requirement already satisfied: matplotlib in /Users/ishibushisatoshi/tetris/.venv/lib/python3.7/site-packages (3.5.2)\n",
      "Requirement already satisfied: fonttools>=4.22.0 in /Users/ishibushisatoshi/tetris/.venv/lib/python3.7/site-packages (from matplotlib) (4.34.4)\n",
      "Requirement already satisfied: python-dateutil>=2.7 in /Users/ishibushisatoshi/tetris/.venv/lib/python3.7/site-packages (from matplotlib) (2.8.2)\n",
      "Requirement already satisfied: pyparsing>=2.2.1 in /Users/ishibushisatoshi/tetris/.venv/lib/python3.7/site-packages (from matplotlib) (3.0.9)\n",
      "Requirement already satisfied: numpy>=1.17 in /Users/ishibushisatoshi/tetris/.venv/lib/python3.7/site-packages (from matplotlib) (1.21.6)\n",
      "Requirement already satisfied: kiwisolver>=1.0.1 in /Users/ishibushisatoshi/tetris/.venv/lib/python3.7/site-packages (from matplotlib) (1.4.4)\n",
      "Requirement already satisfied: cycler>=0.10 in /Users/ishibushisatoshi/tetris/.venv/lib/python3.7/site-packages (from matplotlib) (0.11.0)\n",
      "Requirement already satisfied: packaging>=20.0 in /Users/ishibushisatoshi/tetris/.venv/lib/python3.7/site-packages (from matplotlib) (21.3)\n",
      "Requirement already satisfied: pillow>=6.2.0 in /Users/ishibushisatoshi/tetris/.venv/lib/python3.7/site-packages (from matplotlib) (9.2.0)\n",
      "Requirement already satisfied: typing-extensions in /Users/ishibushisatoshi/tetris/.venv/lib/python3.7/site-packages (from kiwisolver>=1.0.1->matplotlib) (4.3.0)\n",
      "Requirement already satisfied: six>=1.5 in /Users/ishibushisatoshi/tetris/.venv/lib/python3.7/site-packages (from python-dateutil>=2.7->matplotlib) (1.16.0)\n",
      "\u001b[33mWARNING: You are using pip version 21.1; however, version 22.2.1 is available.\n",
      "You should consider upgrading via the '/Users/ishibushisatoshi/tetris/.venv/bin/python3.7 -m pip install --upgrade pip' command.\u001b[0m\n"
     ]
    }
   ],
   "source": [
    "!pip install matplotlib"
   ]
  },
  {
   "cell_type": "code",
   "execution_count": 6,
   "id": "9f8cbeb7",
   "metadata": {},
   "outputs": [],
   "source": [
    "%matplotlib inline\n",
    "import matplotlib.pyplot as plt"
   ]
  },
  {
   "cell_type": "markdown",
   "id": "b6bd420f",
   "metadata": {},
   "source": [
    "## 0.2. サンプル用テストデータの準備\n",
    "- AIモデルに入力するサンプル用テストデータをロードします。\n",
    "- チュートリアルとして10パターンのテストデータを格納した .npz ファイルを用意しています。"
   ]
  },
  {
   "cell_type": "code",
   "execution_count": 8,
   "id": "681c8440",
   "metadata": {},
   "outputs": [],
   "source": [
    "import numpy as np\n",
    "tutorial_data = np.load(\"./test_data10.npz\") #1~10までのサンプル用状態データをロード"
   ]
  },
  {
   "cell_type": "code",
   "execution_count": 9,
   "id": "18bf5909",
   "metadata": {},
   "outputs": [
    {
     "data": {
      "image/png": "[encoded data removed]",
      "text/plain": [
       "<Figure size 792x360 with 1 Axes>"
      ]
     },
     "metadata": {
      "needs_background": "light"
     },
     "output_type": "display_data"
    }
   ],
   "source": [
    "colors = [[255,255,255],\n",
    "          [255,0,0],\n",
    "          [0,255,0],\n",
    "          [255,255,0], \n",
    "          [218, 179, 0],\n",
    "          [247, 171, 166],\n",
    "          [0,0,255],\n",
    "          [255,255,0]]\n",
    "\n",
    "#ブロック可視化関数 (numpy 配列からテトリスの盤面を可視化)\n",
    "def visualize_block(data, shape, size=0.5):\n",
    "    block_array = []\n",
    "    fig, ax = plt.subplots()\n",
    "    fig.set_figwidth(shape[0] * size)\n",
    "    fig.set_figheight(shape[1] * size)\n",
    "    for i in range(shape[0]):\n",
    "        row = []\n",
    "        for j in range(shape[1]):\n",
    "            c = colors[int(data[i][j])]\n",
    "            row.append(c)\n",
    "        block_array.append(row)\n",
    "    block_array = np.array(block_array)\n",
    "    im = plt.imshow(block_array)\n",
    "\n",
    "    #グリッド線を引く\n",
    "    ax.set_xticks(np.arange(-0.5, 10, 1), minor=True)\n",
    "    ax.set_yticks(np.arange(-0.5, 23, 1.0), minor=True)\n",
    "    ax.set_xticks(np.arange(-0.5, 10,10))\n",
    "    ax.set_yticks(np.arange(-0.5, 23, 3))\n",
    "    ax.grid(which='minor', color='black', linestyle='-', linewidth=0.5)\n",
    "    ax.grid(which='major', color='black', linestyle='-', linewidth=0.5)\n",
    "    ax.imshow(block_array)\n",
    "    \n",
    "shape = tutorial_data[\"1\"].shape \n",
    "visualize_block(tutorial_data[\"1\"],shape) #サンプル用状態データ１を可視化\n"
   ]
  },
  {
   "cell_type": "markdown",
   "id": "48efc596",
   "metadata": {},
   "source": [
    "# 2章 AIモデル(MLP)に状態の価値を推論させよう！\n",
    "- 次にサンプル用テストデータを用いて、AIモデル(MLP)に推論をさせてみましょう。\n",
    "- DQN では状態を　22x10　のテンソルとして表現します。"
   ]
  },
  {
   "cell_type": "code",
   "execution_count": 13,
   "id": "6fe3a10e",
   "metadata": {},
   "outputs": [],
   "source": [
    "import sys\n",
    "sys.path.append(\"../\")\n",
    "sys.path.append(\"../../../\")\n",
    "from deepqnet import MLP\n",
    "import torch"
   ]
  },
  {
   "cell_type": "markdown",
   "id": "3641b901",
   "metadata": {},
   "source": [
    "## 2.1 MLPモデルをロード\n",
    "- MLPモデルをロードしましょう。　\n",
    "- ロード方法は1.1 と同様です。\n",
    "- 今回はサンプル用の重みファイル　\"tetris/weight/MLP/sample_weight.pt\" を使ってみてください。"
   ]
  },
  {
   "cell_type": "code",
   "execution_count": 15,
   "id": "b76a56ac",
   "metadata": {},
   "outputs": [],
   "source": [
    "model = torch.load(\"../../../../weight/MLP/sample_weight.pt\") "
   ]
  },
  {
   "cell_type": "markdown",
   "id": "71aba423",
   "metadata": {},
   "source": [
    "## 2.2テストデータのロード\n",
    "- 実際にモデルを使って状態（テトリスの盤面）の価値を推定するためのテストデータをロードしましょう。\n",
    "- 0.2. で準備したサンプルデータを使って、モデルの入出力がどのような形式かを確認してみてください。"
   ]
  },
  {
   "cell_type": "code",
   "execution_count": 26,
   "id": "50eb8150",
   "metadata": {},
   "outputs": [
    {
     "data": {
      "image/png": "[encoded data removed]",
      "text/plain": [
       "<Figure size 792x360 with 1 Axes>"
      ]
     },
     "metadata": {
      "needs_background": "light"
     },
     "output_type": "display_data"
    }
   ],
   "source": [
    "# ###index を1~10の番号に変えてみてください###\n",
    "\n",
    "data_index =  8\n",
    "\n",
    "# #######################################\n",
    "\n",
    "tutorial_data = np.load(\"./test_data10.npz\") #1~10までのサンプル用状態データをロード\n",
    "load_data = tutorial_data[repr(data_index)] \n",
    "shape = load_data.shape\n",
    "visualize_block(load_data ,shape) #データを可視化"
   ]
  },
  {
   "cell_type": "markdown",
   "id": "208aecd2",
   "metadata": {},
   "source": [
    "- サンプル用MLPモデルではshape=(batch_size,4)のテンソルを入力とします。\n",
    "- また、状態のテンソルの各要素は0以上の整数になり、それぞれ（削除する行数, ブロック間の穴の数, 列毎の高さ差分, 高さの合計) を示す。\n",
    "- 盤面を４次元のテンソルに変換するには下記の手順で実行する。\n",
    "    1. get_reshape_backboard()を用いて状態のデータを1,0の２値データ化\n",
    "    2. get_state_properties()を用いて1.の出力を４次元のテンソルに変換\n",
    "    \n",
    "- get_state_propertiesは３つの関数を呼び出しており、それぞれの役割は下記になる。\n",
    "    - check_cleared_rows(): 削除される列を数える\n",
    "    - get_holes: ブロック間の穴の数を数える\n",
    "    - get_bumpiness_and_height: 各列毎の高さの差および高さの合計値を取得"
   ]
  },
  {
   "cell_type": "code",
   "execution_count": 27,
   "id": "9419b7cb",
   "metadata": {},
   "outputs": [],
   "source": [
    "#削除される列を数える\n",
    "def check_cleared_rows(board, height=22, width=10):\n",
    "    board_new = np.copy(board)\n",
    "    lines = 0\n",
    "    empty_line = np.array([0 for i in range(width)])\n",
    "    for y in range(height - 1, -1, -1):\n",
    "        blockCount  = np.sum(board[y])\n",
    "        if blockCount == width:\n",
    "            lines += 1\n",
    "            board_new = np.delete(board_new, y, 0)\n",
    "            board_new = np.vstack([empty_line, board_new ])\n",
    "    return lines, board_new\n",
    "\n",
    "\n",
    "#ブロック間の穴の数を数える\n",
    "def get_holes(board,height=22, width=10):\n",
    "    num_holes = 0\n",
    "    for i in range(width):\n",
    "        col = board[:, i]\n",
    "        row = 0\n",
    "        while row < height and col[row] == 0:\n",
    "            row += 1\n",
    "        num_holes += len([x for x in col[row + 1:] if x == 0])\n",
    "    return num_holes\n",
    "\n",
    "\n",
    "#各列毎の高さの差および高さの合計値を取得\n",
    "def get_bumpiness_and_height(board, height=22, width=10):\n",
    "    mask = board != 0\n",
    "    invert_heights = np.where(mask.any(axis=0), np.argmax(mask, axis=0), height)\n",
    "    heights = height - invert_heights\n",
    "    total_height = np.sum(heights)\n",
    "    currs = heights[:-1]\n",
    "    nexts = heights[1:]\n",
    "    diffs = np.abs(currs - nexts)\n",
    "    total_bumpiness = np.sum(diffs)\n",
    "    return total_bumpiness, total_height\n",
    "\n",
    "\n",
    "#1,0の盤面を４次元のテンソルに変換\n",
    "def get_state_properties(board):\n",
    "    lines_cleared, board = check_cleared_rows(board)\n",
    "    holes = get_holes(board)\n",
    "    bumpiness, total_height = get_bumpiness_and_height(board)\n",
    "    return torch.FloatTensor([lines_cleared, holes, bumpiness, total_height])"
   ]
  },
  {
   "cell_type": "code",
   "execution_count": 29,
   "id": "cda4a9d4",
   "metadata": {},
   "outputs": [],
   "source": [
    "# 2値関数\n",
    "def get_reshape_backboard(board):\n",
    "    reshape_board = np.where(board > 0, 1, 0)\n",
    "    return reshape_board\n",
    "\n",
    "state = get_reshape_backboard(load_data) # 1,0 の2値データに変更\n",
    "state = get_state_properties(state)\n",
    "\n",
    "next_states = torch.stack([state])"
   ]
  },
  {
   "cell_type": "code",
   "execution_count": 30,
   "id": "7b8e4f47",
   "metadata": {},
   "outputs": [
    {
     "name": "stdout",
     "output_type": "stream",
     "text": [
      "tensor([[-589.6752]])\n"
     ]
    }
   ],
   "source": [
    "#4次元化したテンソルをMLPに入力する\n",
    "model.eval()\n",
    "with torch.no_grad():\n",
    "    predictions = model(next_states) #状態の価値を推論　(modelのforward()が実行される)\n",
    "print(predictions) #状態の価値（大きい方が価値が高い）"
   ]
  },
  {
   "cell_type": "markdown",
   "id": "187f06b3",
   "metadata": {},
   "source": [
    "上記で出力された結果が、入力状態に対してモデルが推論した価値になります。\n",
    "例えばサンプルデータの1番(data_index=1)では価値が 697.6295 に対して サンプルデータの8番(data_index=8)では価値が　-589.6752 となります。\n",
    "これはサンプルデータの1番が表す状態の方が価値が高い＝将来的に報酬を得やすいことを表しています。"
   ]
  }
 ],
 "metadata": {
  "kernelspec": {
   "display_name": "Python 3 (ipykernel)",
   "language": "python",
   "name": "python3"
  },
  "language_info": {
   "codemirror_mode": {
    "name": "ipython",
    "version": 3
   },
   "file_extension": ".py",
   "mimetype": "text/x-python",
   "name": "python",
   "nbconvert_exporter": "python",
   "pygments_lexer": "ipython3",
   "version": "3.7.11"
  }
 },
 "nbformat": 4,
 "nbformat_minor": 5
}
