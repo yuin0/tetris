{
 "cells": [
  {
   "cell_type": "markdown",
   "id": "89f4a29c",
   "metadata": {},
   "source": [
    "# チュートリアル1: DQNの使い方を理解しよう\n",
    "\n",
    "## このノードブックの目的\n",
    "- pytorch で構築したサンプル用DQNモデルを使って、実際に推論を試し、サンプル用モデルの入出力形式を理解する。"
   ]
  },
  {
   "cell_type": "markdown",
   "id": "9f0f7f7b",
   "metadata": {},
   "source": [
    "# 序章. ブロックを可視化する関数を準備しよう!\n",
    "- 事前準備としてnumpy の配列をテトリスの盤面のように可視化する関数を準備します。\n",
    "- この関数は実際のコードでは使用しておらず、本チュートリアルにおいて理解を深めるためのものです。"
   ]
  },
  {
   "cell_type": "markdown",
   "id": "d253315d",
   "metadata": {},
   "source": [
    "## 0.1. matplotlibのインストール \n",
    "可視化用のライブラリ[matplotlib](https://matplotlib.org/stable/api/_as_gen/matplotlib.pyplot.html)をインストールします。"
   ]
  },
  {
   "cell_type": "code",
   "execution_count": null,
   "id": "885e03e4",
   "metadata": {
    "scrolled": true
   },
   "outputs": [],
   "source": [
    "!pip install matplotlib"
   ]
  },
  {
   "cell_type": "code",
   "execution_count": null,
   "id": "9f8cbeb7",
   "metadata": {},
   "outputs": [],
   "source": [
    "%matplotlib inline\n",
    "import matplotlib.pyplot as plt"
   ]
  },
  {
   "cell_type": "markdown",
   "id": "252a3fdc",
   "metadata": {},
   "source": [
    "## 0.2. サンプル用テストデータの準備\n",
    "- AIモデルに入力するサンプル用テストデータをロードします。\n",
    "- チュートリアルとして10パターンのテストデータを格納した .npz ファイルを用意しています。"
   ]
  },
  {
   "cell_type": "code",
   "execution_count": null,
   "id": "681c8440",
   "metadata": {},
   "outputs": [],
   "source": [
    "import numpy as np\n",
    "tutorial_data = np.load(\"./test_data10.npz\") #1~10までのサンプル用状態データをロード"
   ]
  },
  {
   "cell_type": "code",
   "execution_count": null,
   "id": "18bf5909",
   "metadata": {},
   "outputs": [],
   "source": [
    "colors = [[255,255,255],\n",
    "          [255,0,0],\n",
    "          [0,255,0],\n",
    "          [255,255,0], \n",
    "          [218, 179, 0],\n",
    "          [247, 171, 166],\n",
    "          [0,0,255],\n",
    "          [255,255,0]]\n",
    "\n",
    "#ブロック可視化関数 (numpy 配列からテトリスの盤面を可視化)\n",
    "def visualize_block(data, shape, size=0.5):\n",
    "    block_array = []\n",
    "    fig, ax = plt.subplots()\n",
    "    fig.set_figwidth(shape[0] * size)\n",
    "    fig.set_figheight(shape[1] * size)\n",
    "    for i in range(shape[0]):\n",
    "        row = []\n",
    "        for j in range(shape[1]):\n",
    "            c = colors[int(data[i][j])]\n",
    "            row.append(c)\n",
    "        block_array.append(row)\n",
    "    block_array = np.array(block_array)\n",
    "    im = plt.imshow(block_array)\n",
    "\n",
    "    #グリッド線を引く\n",
    "    ax.set_xticks(np.arange(-0.5, 10, 1), minor=True)\n",
    "    ax.set_yticks(np.arange(-0.5, 23, 1.0), minor=True)\n",
    "    ax.set_xticks(np.arange(-0.5, 10,10))\n",
    "    ax.set_yticks(np.arange(-0.5, 23, 3))\n",
    "    ax.grid(which='minor', color='black', linestyle='-', linewidth=0.5)\n",
    "    ax.grid(which='major', color='black', linestyle='-', linewidth=0.5)\n",
    "    ax.imshow(block_array)\n",
    "    \n",
    "shape = tutorial_data[\"1\"].shape \n",
    "visualize_block(tutorial_data[\"1\"],shape) #サンプル用状態データ１を可視化\n"
   ]
  },
  {
   "cell_type": "code",
   "execution_count": null,
   "id": "e229ed0c",
   "metadata": {},
   "outputs": [],
   "source": [
    "import sys\n",
    "sys.path.append(\"../\")\n",
    "sys.path.append(\"../../../\")\n",
    "from deepqnet import DeepQNetwork\n",
    "import torch\n",
    "import os"
   ]
  },
  {
   "cell_type": "code",
   "execution_count": null,
   "id": "c26d854e",
   "metadata": {},
   "outputs": [],
   "source": [
    "# 2値関数\n",
    "def get_reshape_backboard(board):\n",
    "    reshape_board = np.where(board > 0, 1, 0)\n",
    "    return reshape_board"
   ]
  },
  {
   "cell_type": "markdown",
   "id": "84f846f4",
   "metadata": {},
   "source": [
    "# 1章 AIモデル(DQN)に状態の価値を推論させよう！\n",
    "- ここからは上記で準備したサンプル用テストデータを用いて、AIモデル(DQN)に推論をさせてみましょう。\n",
    "- DQN では状態を　22x10　のテンソルとして表現します。"
   ]
  },
  {
   "cell_type": "markdown",
   "id": "3890ef82",
   "metadata": {},
   "source": [
    "## 1.1 DQNモデルをロード\n",
    "- DQNモデルをロードしましょう。　\n",
    "- pytorch では　torch.load() で学習済みの重みファイルをロードし、モデルを構築できます。\n",
    "- 今回はサンプル用の重みファイル　\"tetris/weight/DQN/sample_weight.pt\" を使ってみてください。"
   ]
  },
  {
   "cell_type": "code",
   "execution_count": null,
   "id": "616e806c",
   "metadata": {},
   "outputs": [],
   "source": [
    "model = torch.load(\"../../../../weight/DQN/sample_weight.pt\") #モデルをロード"
   ]
  },
  {
   "cell_type": "markdown",
   "id": "a3a87ff7",
   "metadata": {},
   "source": [
    "## 1.2テストデータのロード\n",
    "- 実際にモデルを使って状態（テトリスの盤面）の価値を推定するためのテストデータをロードしましょう。\n",
    "- 0.2. で準備したサンプルデータを使って、モデルの入出力がどのような形式かを確認してみてください。"
   ]
  },
  {
   "cell_type": "code",
   "execution_count": null,
   "id": "9a922bc2",
   "metadata": {},
   "outputs": [],
   "source": [
    "# ###index を1~10の番号に変えてみてください###\n",
    "\n",
    "data_index =  1\n",
    "\n",
    "# #######################################\n",
    "\n",
    "tutorial_data = np.load(\"./test_data10.npz\") #1~10までのサンプル用状態データをロード\n",
    "load_data = tutorial_data[repr(data_index)] \n",
    "shape = load_data.shape\n",
    "visualize_block(load_data ,shape) #データを可視化"
   ]
  },
  {
   "cell_type": "markdown",
   "id": "35955951",
   "metadata": {},
   "source": [
    "- サンプル用DQNモデルではshape=(batch_size,22,10)のテンソルを入力とします。\n",
    "- また、状態のテンソルの各要素は0または1になります.（0: ブロックなし、1:ブロックあり)\n",
    "- 下記の手順で入力の形式を合わせます。\n",
    "    1. get_reshape_backboard()を用いて状態のデータを1,0の２値データ化\n",
    "    2. 複数の状態データをまとめる　（今回は１つ）\n",
    "    3. numpy を tensor形式に変換\n",
    "    \n",
    "- 今回は１つの状態データをテンソル化するのでリストで３Dにした後、torch.from_numpy()　を使っていますが、\n",
    "複数のバッチで入力する場合は torch.stack()　を使うと便利です。"
   ]
  },
  {
   "cell_type": "code",
   "execution_count": null,
   "id": "d3679070",
   "metadata": {},
   "outputs": [],
   "source": [
    "state = get_reshape_backboard(load_data) # 1,0 の2値データに変更\n",
    "print(state)\n",
    "states =np.array([state]) # 3Dに変更　(batch_size,Height,Width) 今回はbatch_size=1とする\n",
    "next_states = torch.from_numpy(states.astype(np.float32)).clone() #numpy -> tensor 型に変更"
   ]
  },
  {
   "cell_type": "code",
   "execution_count": null,
   "id": "ad9f415a",
   "metadata": {},
   "outputs": [],
   "source": [
    "model.eval()\n",
    "with torch.no_grad():\n",
    "    predictions = model(next_states) #状態の価値を推論　(modelのforward()が実行される)\n",
    "print(predictions) #状態の価値（大きい方が価値が高い）"
   ]
  },
  {
   "cell_type": "markdown",
   "id": "0c624696",
   "metadata": {},
   "source": [
    "上記で出力された結果が、入力状態に対してモデルが推論した価値になります。\n",
    "\n",
    "例えばサンプルデータの1番(data_index=1)では価値が　-0.1795 に対して サンプルデータの8番(data_index=8)では価値が　-2.6101 となります。\n",
    "\n",
    "これはサンプルデータの1番が表す状態の方が価値が高い＝将来的に報酬を得やすいことを表しています。"
   ]
  }
 ],
 "metadata": {
  "kernelspec": {
   "display_name": "Python 3 (ipykernel)",
   "language": "python",
   "name": "python3"
  },
  "language_info": {
   "codemirror_mode": {
    "name": "ipython",
    "version": 3
   },
   "file_extension": ".py",
   "mimetype": "text/x-python",
   "name": "python",
   "nbconvert_exporter": "python",
   "pygments_lexer": "ipython3",
   "version": "3.7.11"
  }
 },
 "nbformat": 4,
 "nbformat_minor": 5
}
