{
 "cells": [
  {
   "cell_type": "markdown",
   "id": "2543848f",
   "metadata": {},
   "source": [
    "# チュートリアル3: ブロックの配置の決定方法を理解しよう\n",
    "\n",
    "## このノードブックの目的\n",
    "- AIモデルの推論からブロックの配置の決定までの流れを理解する。"
   ]
  },
  {
   "cell_type": "markdown",
   "id": "b07fbc3b",
   "metadata": {},
   "source": [
    "### チュートリアル 1,2と同じくブロックを可視化する関数とサンプル用テストデータを定義しましょう."
   ]
  },
  {
   "cell_type": "markdown",
   "id": "a02977e0",
   "metadata": {},
   "source": [
    "## 0.1. matplotlibのインストール \n",
    "可視化用のライブラリ[matplotlib](https://matplotlib.org/stable/api/_as_gen/matplotlib.pyplot.html)をインストールします。"
   ]
  },
  {
   "cell_type": "code",
   "execution_count": null,
   "id": "885e03e4",
   "metadata": {
    "scrolled": true
   },
   "outputs": [],
   "source": [
    "!pip install matplotlib"
   ]
  },
  {
   "cell_type": "code",
   "execution_count": null,
   "id": "9f8cbeb7",
   "metadata": {},
   "outputs": [],
   "source": [
    "%matplotlib inline\n",
    "import matplotlib.pyplot as plt"
   ]
  },
  {
   "cell_type": "markdown",
   "id": "2ccf72fa",
   "metadata": {},
   "source": [
    "## 0.2. サンプル用テストデータの準備\n",
    "- AIモデルに入力するサンプル用テストデータをロードします。\n",
    "- チュートリアルとして10パターンのテストデータを格納した .npz ファイルを用意しています。\n",
    "- 本章では盤面の配置の初期化に用います"
   ]
  },
  {
   "cell_type": "code",
   "execution_count": null,
   "id": "723cef9b",
   "metadata": {},
   "outputs": [],
   "source": [
    "import numpy as np\n",
    "tutorial_data = np.load(\"./test_data10.npz\") #1~10までのサンプル用状態データをロード"
   ]
  },
  {
   "cell_type": "code",
   "execution_count": null,
   "id": "6049f2a6",
   "metadata": {},
   "outputs": [],
   "source": [
    "colors = [[255,255,255],\n",
    "          [255,0,0],\n",
    "          [0,255,0],\n",
    "          [255,255,0], \n",
    "          [218, 179, 0],\n",
    "          [247, 171, 166],\n",
    "          [0, 0, 255],\n",
    "          [255, 255, 0],\n",
    "          [0, 0, 0]         \n",
    "         ]\n",
    "\n",
    "\n",
    "#サンプルしたブロックを可視化する関数 \n",
    "def visualize_sample_block(index, size=0.5):\n",
    "    block_array = []\n",
    "    fig, ax = plt.subplots()\n",
    "    fig.set_figwidth(4 * size)\n",
    "    fig.set_figheight(4 * size)\n",
    "    if index==1:\n",
    "        data = np.array([[0, 1, 0, 0],[0,1, 0, 0],[0, 1, 0, 0], [0, 1, 0, 0]])\n",
    "    elif index==2:\n",
    "        data = np.array([[0, 0, 0, 0], [0, 1, 0, 0],[0, 1, 0, 0], [0, 1, 1, 0]])\n",
    "    elif index==3:\n",
    "        data = np.array([[0, 0, 0, 0], [0, 0, 1, 0], [0, 0, 1, 0], [0, 1, 1, 0]])\n",
    "    elif index==4:\n",
    "        data = np.array([[0, 0, 0, 0], [0, 0, 0, 0], [0, 0, 1, 0], [0, 1, 1, 1]])\n",
    "    elif index==5:\n",
    "        data = np.array([[0, 0, 0, 0], [0, 0, 0, 0], [0, 1, 1, 0], [0, 1, 1, 0]])\n",
    "    elif index==6:\n",
    "        data = np.array([[0, 0, 0, 0], [0, 0, 0, 0], [0, 0, 1, 1], [0, 1, 1, 0]])\n",
    "    elif index==7:\n",
    "        data = np.array([[0, 0, 0, 0], [0, 0, 0, 0], [0, 1, 1, 0], [0, 0, 1, 1]])\n",
    "\n",
    "    for i in range(4):\n",
    "        row = []\n",
    "        for j in range(4):\n",
    "            c = colors[index*data[i][j]]\n",
    "            row.append(c)\n",
    "        block_array.append(row)\n",
    "    block_array = np.array(block_array)\n",
    "    im = plt.imshow(block_array)\n",
    "    \n",
    "    #グリッド線を引く\n",
    "    ax.set_xticks(np.arange(-0.5, 4, 1), minor=True)\n",
    "    ax.set_yticks(np.arange(-0.5, 4, 1.0), minor=True)\n",
    "    ax.set_xticks(np.arange(-0.5, 4,10))\n",
    "    ax.set_yticks(np.arange(-0.5, 4, 3))\n",
    "    ax.grid(which='minor', color='black', linestyle='-', linewidth=0.5)\n",
    "    ax.grid(which='major', color='black', linestyle='-', linewidth=0.5)\n",
    "    ax.imshow(block_array)\n",
    "\n",
    "\n",
    "#ブロック可視化関数 (numpy 配列からテトリスの盤面を可視化)\n",
    "def visualize_block(data_list ,shape, size=0.5, title=None):\n",
    "    fig, ax = plt.subplots(1,len(data_list))\n",
    "    if not isinstance(title , list):\n",
    "        title = [None for i in range(len(data_list))]\n",
    "    \n",
    "    for k in range(len(data_list)):\n",
    "        data = data_list[k]\n",
    "        block_array = []\n",
    "        \n",
    "        fig.set_figwidth(shape[0] * size)\n",
    "        fig.set_figheight(shape[1] * size)\n",
    "        for i in range(shape[0]):\n",
    "            row = []\n",
    "            for j in range(shape[1]):\n",
    "                c = colors[int(data[i][j])]\n",
    "                row.append(c)\n",
    "            block_array.append(row)\n",
    "        block_array = np.array(block_array)\n",
    "        im = plt.imshow(block_array)\n",
    "        \n",
    "        if len(data_list)==1:\n",
    "            #グリッド線を引く\n",
    "            ax.set_xticks(np.arange(-0.5, 10, 1), minor=True)\n",
    "            ax.set_yticks(np.arange(-0.5, 23, 1.0), minor=True)\n",
    "            ax.set_xticks(np.arange(-0.5, 10,10))\n",
    "            ax.set_yticks(np.arange(-0.5, 23, 3))\n",
    "            ax.grid(which='minor', color='black', linestyle='-', linewidth=0.5)\n",
    "            ax.grid(which='major', color='black', linestyle='-', linewidth=0.5)\n",
    "            ax.imshow(block_array)\n",
    "        \n",
    "        else:\n",
    "            #グリッド線を引く\n",
    "            ax[k].set_xticks(np.arange(-0.5, 10, 1), minor=True)\n",
    "            ax[k].set_yticks(np.arange(-0.5, 23, 1.0), minor=True)\n",
    "            ax[k].set_xticks(np.arange(-0.5, 10,10))\n",
    "            ax[k].set_yticks(np.arange(-0.5, 23, 3))\n",
    "            ax[k].grid(which='minor', color='black', linestyle='-', linewidth=0.5)\n",
    "            ax[k].grid(which='major', color='black', linestyle='-', linewidth=0.5)\n",
    "            ax[k].imshow(block_array)\n",
    "        \n",
    "        if title[k] is not None:\n",
    "            ax[k].set_title(title[k])\n",
    "    \n",
    "shape = tutorial_data[\"1\"].shape \n",
    "\n",
    "#サンプル用状態データ１を可視化\n",
    "visualize_block([tutorial_data[\"1\"], tutorial_data[\"2\"], tutorial_data[\"3\"]], shape, title=[\"1\", \"2\", \"3\"])\n",
    "visualize_block([tutorial_data[\"4\"], tutorial_data[\"5\"], tutorial_data[\"6\"]], shape, title=[\"4\", \"5\", \"6\"]) \n",
    "visualize_block([tutorial_data[\"7\"], tutorial_data[\"8\"], tutorial_data[\"9\"]], shape, title=[\"7\", \"8\", \"9\"]) "
   ]
  },
  {
   "cell_type": "markdown",
   "id": "045ba64c",
   "metadata": {},
   "source": [
    "# 3章 次の状態の価値を推論させてみよう!\n",
    "- サンプル用のコードでは現在の状態（盤面）と次のブロックから次の状態を取得し、それらの次の状態をAIモデルに入力する- \n",
    "- そして、AIモデルの推論結果で最も価値が高いものを次の状態として採用し、そのブロックの置き方（行動）を取る。\n",
    "- 本章では次の状態の取得から、次の行動を取得するまでの流れを示す。"
   ]
  },
  {
   "cell_type": "markdown",
   "id": "93614f9d",
   "metadata": {},
   "source": [
    "- まず、下準備として次の状態を得るための関数を定義しましょう。\n",
    "- それぞれの役割は下記です。\n",
    "    - getShapeCoordArray(): ブロックの座標を求める（そのブロックがどういう形かを取得する）\n",
    "    - dropDownWithDy():　ブロックを配置する。\n",
    "    - dropDown(): ブロックが配置される高さを求める\n",
    "    - getBoard(): ブロックを配置後の盤面を取得\n",
    "    - getSearchXRange(): ブロックを配置できる範囲を取得\n",
    "    - get_reshape_backboard(): 盤面を2値化する関数\n",
    "    - get_next_states_v2(): 次の状態を取得"
   ]
  },
  {
   "cell_type": "code",
   "execution_count": null,
   "id": "336e8987",
   "metadata": {},
   "outputs": [],
   "source": [
    "def getShapeCoordArray(Shape_class, direction, x, y):\n",
    "    coordArray = Shape_class.getCoords(direction, x, y) # get array from shape direction, x, y.\n",
    "    return coordArray\n",
    "\n",
    "# ブロックを配置\n",
    "def dropDownWithDy(board, Shape_class, direction, x, dy, board_data_width=10):\n",
    "    _board = board\n",
    "    coordArray = getShapeCoordArray(Shape_class, direction, x, 0)\n",
    "    for _x, _y in coordArray:\n",
    "        _board[(_y + dy) * board_data_width + _x] = Shape_class.shape\n",
    "    return _board\n",
    "\n",
    "def dropDown(board, Shape_class, direction, x,board_data_height=22, board_data_width=10, ShapeNone_index=0):\n",
    "    dy = board_data_height - 1\n",
    "    coordArray = getShapeCoordArray(Shape_class, direction, x, 0)\n",
    "    # update dy\n",
    "    for _x, _y in coordArray:\n",
    "        _yy = 0\n",
    "        while _yy + _y < board_data_height and (_yy + _y < 0 or board[(_y + _yy) * board_data_width + _x] == ShapeNone_index):\n",
    "            _yy += 1\n",
    "        _yy -= 1\n",
    "        if _yy < dy:\n",
    "            dy = _yy\n",
    "    _board = dropDownWithDy(board, Shape_class, direction, x, dy)\n",
    "    return _board\n",
    "\n",
    "\n",
    "# ブロックを配置後の盤面を取得\n",
    "def getBoard(board_backboard, Shape_class, direction, x):\n",
    "    board = copy.deepcopy(board_backboard)\n",
    "    _board = dropDown(board, Shape_class, direction, x)\n",
    "    return _board\n",
    "\n",
    "\n",
    "# ブロックを配置できる範囲を取得\n",
    "def getSearchXRange(Shape_class, direction,board_data_width=10):\n",
    "    minX, maxX, _, _ = Shape_class.getBoundingOffsets(direction) # get shape x offsets[minX,maxX] as relative value.\n",
    "    xMin = -1 * minX\n",
    "    xMax = board_data_width - maxX\n",
    "    return xMin, xMax\n",
    "\n",
    "# 盤面を2値化する関数\n",
    "def get_reshape_backboard(board,height=22, width=10):\n",
    "    board = np.array(board)\n",
    "    reshape_board = board.reshape(height,width)\n",
    "    reshape_board = np.where(reshape_board > 0, 1, 0)\n",
    "    return reshape_board\n",
    "\n",
    "#次の状態を取得\n",
    "def get_next_states_v2(curr_backboard,piece_id,CurrentShape_class):\n",
    "    states = {}\n",
    "    if piece_id == 5: \n",
    "        num_rotations = 1\n",
    "    elif piece_id == 1 or piece_id == 6 or piece_id == 7:\n",
    "        num_rotations = 2\n",
    "    else:\n",
    "        num_rotations = 4\n",
    "        \n",
    "    for direction0 in range(num_rotations):\n",
    "        x0Min, x0Max = getSearchXRange(CurrentShape_class, direction0)\n",
    "        for x0 in range(x0Min, x0Max):\n",
    "            board = getBoard(curr_backboard, CurrentShape_class, direction0, x0)\n",
    "            reshape_backboard = get_reshape_backboard(board)\n",
    "            reshape_backboard = torch.from_numpy(reshape_backboard[np.newaxis, :, :]).float()\n",
    "            states[(x0, direction0)] = reshape_backboard\n",
    "    return states"
   ]
  },
  {
   "cell_type": "code",
   "execution_count": null,
   "id": "3f4f4bbd",
   "metadata": {},
   "outputs": [],
   "source": [
    "import copy\n",
    "import sys\n",
    "sys.path.append(\"../\")\n",
    "sys.path.append(\"../../../\")\n",
    "from board_manager import Shape\n",
    "from board_manager import BOARD_DATA\n",
    "from deepqnet import DeepQNetwork\n",
    "import torch\n",
    "import random"
   ]
  },
  {
   "cell_type": "markdown",
   "id": "8a4bb312",
   "metadata": {},
   "source": [
    "# 3.1 ブロックをランダムに配置させてみよう。\n",
    "- それでは取得した次の状態を可視化させてみましょう。\n",
    "- まずは下のセルを実行し、サンプル用データを用いて、盤面を初期化してください \n",
    "- 可視化されるのが今の状態になります。"
   ]
  },
  {
   "cell_type": "code",
   "execution_count": null,
   "id": "2513a741",
   "metadata": {},
   "outputs": [],
   "source": [
    "# ###index を1~10の番号に変更してください###\n",
    "\n",
    "data_index =  1 \n",
    "\n",
    "# #######################################\n",
    "tutorial_data = np.load(\"./test_data10.npz\") #1~10までのサンプル用状態データをロード\n",
    "state = tutorial_data[repr(data_index)] \n",
    "shape = state.shape\n",
    "visualize_block([state] ,shape) #データを可視化"
   ]
  },
  {
   "cell_type": "markdown",
   "id": "3123c718",
   "metadata": {},
   "source": [
    "- 次に下のセル連続して実行すれば、ブロックがランダムに配置され、状態(state)が更新されていきます。\n",
    "\n",
    "注) 初期化時以外は全てのブロックの色が赤になります (状態が0, 1 に置き換えられるため）"
   ]
  },
  {
   "cell_type": "code",
   "execution_count": null,
   "id": "8a68b8da",
   "metadata": {},
   "outputs": [],
   "source": [
    "BOARD_DATA.clear()\n",
    "BOARD_DATA.createNewPiece()\n",
    "ShapeClass, ShapeIdx, ShapeRange = BOARD_DATA.getShapeData(1) #ブロックをサンプリング\n",
    "curr_backboard = state.flatten() #2次元の配列を1次元のリストに変換\n",
    "next_steps = get_next_states_v2(curr_backboard, ShapeIdx, ShapeClass) #次の状態を取得\n",
    "key = random.choice(list(next_steps.keys()))\n",
    "\n",
    "next_states = next_steps[key] #テンソルをnumpy配列に変換\n",
    "next_state = next_states[0]\n",
    "shape = next_state.shape\n",
    "\n",
    "visualize_sample_block(ShapeIdx) #サンプルしたブロック\n",
    "visualize_block([state, next_state] ,shape, title=[\"state\", \"next_state\"]) #データを可視化\n",
    "\n",
    "state = next_state"
   ]
  },
  {
   "cell_type": "markdown",
   "id": "e5853a8d",
   "metadata": {},
   "source": [
    "# 3.2 DQNを用いてブロックを配置させてみよう。\n",
    "- いよいよ、DQNの推論を用いて次の状態を取得し、ブロックを配置させてみましょう。\n",
    "- まずはサンプル用のモデルをロードしましょう。"
   ]
  },
  {
   "cell_type": "code",
   "execution_count": null,
   "id": "f98c0af3",
   "metadata": {},
   "outputs": [],
   "source": [
    "model = torch.load(\"../../../../weight/DQN/sample_weight.pt\") #モデルをロード"
   ]
  },
  {
   "cell_type": "markdown",
   "id": "980cb24e",
   "metadata": {},
   "source": [
    "- 次に3.1と同じく下のセルを実行し、サンプル用データを用いて、盤面を初期化してください"
   ]
  },
  {
   "cell_type": "code",
   "execution_count": null,
   "id": "92a9fbc3",
   "metadata": {},
   "outputs": [],
   "source": [
    "# ###index を1~10の番号に変更してください###\n",
    "\n",
    "data_index =  1 \n",
    "\n",
    "# #######################################\n",
    "tutorial_data = np.load(\"./test_data10.npz\") #1~10までのサンプル用状態データをロード\n",
    "state = tutorial_data[repr(data_index)] \n",
    "state = get_reshape_backboard(state)\n",
    "shape = state.shape\n",
    "visualize_block([state] ,shape) #データを可視化"
   ]
  },
  {
   "cell_type": "markdown",
   "id": "6713ea05",
   "metadata": {},
   "source": [
    "- 最後に下のセル連続して実行すれば、DQNによってブロックが配置され、状態(state)が更新されていきます。\n",
    "注) 初期化時以外は全てのブロックの色が赤になります (状態が0, 1 に置き換えられるため）"
   ]
  },
  {
   "cell_type": "code",
   "execution_count": null,
   "id": "9370820c",
   "metadata": {},
   "outputs": [],
   "source": [
    "BOARD_DATA.clear()\n",
    "BOARD_DATA.createNewPiece()\n",
    "ShapeClass, ShapeIdx, ShapeRange = BOARD_DATA.getShapeData(1) #ブロックをサンプリング\n",
    "curr_backboard = state.flatten() #2次元の配列を1次元のリストに変換\n",
    "next_steps = get_next_states_v2(curr_backboard, ShapeIdx, ShapeClass) #次の状態を取得\n",
    "\n",
    "next_actions, next_states = zip(*next_steps.items()) #次の状態を展開\n",
    "next_states = torch.stack(next_states) #テンソル型に変換\n",
    "\n",
    "model.eval()\n",
    "predictions = model(next_states)[:, 0]\n",
    "index = torch.argmax(predictions).item()\n",
    "action = next_actions[index]\n",
    "\n",
    "\n",
    "next_states = next_steps[action] #テンソルをnumpy配列に変換\n",
    "next_state = next_states[0]\n",
    "shape = next_state.shape\n",
    "\n",
    "visualize_sample_block(ShapeIdx) #サンプルしたブロック\n",
    "\n",
    "def cleared_state(state):\n",
    "    state = np.array(state)\n",
    "    width = state.shape[1]\n",
    "    del_row = []\n",
    "    for h in range(state.shape[0]):\n",
    "        if width == np.sum(state[h]):\n",
    "            del_row.append(h)\n",
    "    del_row.reverse()\n",
    "    \n",
    "    for row in del_row:\n",
    "        print(row)\n",
    "        state = np.delete(state, row, 0)\n",
    "        zero_line = np.array([0 for col in range(state.shape[1])])\n",
    "        state = np.vstack([zero_line,state])\n",
    "    return state\n",
    "        \n",
    "clear_next_state = cleared_state(next_state)\n",
    "\n",
    "#visualize_block([state, - next_state + (state * 2) , clear_next_state] ,\n",
    "#                shape, title=[\"state\", \"next_state\", \"cleared\"]) #データを可視化\n",
    "\n",
    "visualize_block([state, (next_state - state)* 2 + state, clear_next_state] ,\n",
    "                shape, title=[\"state\", \"next_state\", \"cleared\"]) #データを可視化(緑が配置したブロック)\n",
    "state = clear_next_state"
   ]
  },
  {
   "cell_type": "markdown",
   "id": "cb0b664e",
   "metadata": {},
   "source": [
    "- 上の図では stateが配置する前の盤面、next_stateがDQNによって配置後の盤面 ,clearedが配置後の盤面において揃ってる列を削除した盤面"
   ]
  },
  {
   "cell_type": "code",
   "execution_count": null,
   "id": "7280b238",
   "metadata": {},
   "outputs": [],
   "source": []
  }
 ],
 "metadata": {
  "kernelspec": {
   "display_name": "Python 3 (ipykernel)",
   "language": "python",
   "name": "python3"
  },
  "language_info": {
   "codemirror_mode": {
    "name": "ipython",
    "version": 3
   },
   "file_extension": ".py",
   "mimetype": "text/x-python",
   "name": "python",
   "nbconvert_exporter": "python",
   "pygments_lexer": "ipython3",
   "version": "3.7.11"
  }
 },
 "nbformat": 4,
 "nbformat_minor": 5
}
